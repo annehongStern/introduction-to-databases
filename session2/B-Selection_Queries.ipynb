{
  "cells": [
    {
      "cell_type": "markdown",
      "metadata": {
        "id": "view-in-github",
        "colab_type": "text"
      },
      "source": [
        "<a href=\"https://colab.research.google.com/github/ipeirotis/introduction-to-databases/blob/master/session2/B-Selection_Queries.ipynb\" target=\"_parent\"><img src=\"https://colab.research.google.com/assets/colab-badge.svg\" alt=\"Open In Colab\"/></a>"
      ]
    },
    {
      "cell_type": "markdown",
      "metadata": {
        "id": "QBeMTyL26ULI"
      },
      "source": [
        "# SQL: Selection Queries"
      ]
    },
    {
      "cell_type": "markdown",
      "metadata": {
        "heading_collapsed": true,
        "id": "w8oa_JjV7F_h"
      },
      "source": [
        "## Setup"
      ]
    },
    {
      "cell_type": "markdown",
      "metadata": {
        "hidden": true,
        "id": "0SuVR-1d7Jr4"
      },
      "source": [
        "We are now installing the necessary packages to interact with the MySQL database and issue SQL queries using the notebook."
      ]
    },
    {
      "cell_type": "code",
      "execution_count": null,
      "metadata": {
        "hidden": true,
        "id": "I6vMQAK86ipS"
      },
      "outputs": [],
      "source": [
        "!sudo pip3 install -U -q PyMySQL 'sqlalchemy<2.0' sql_magic"
      ]
    },
    {
      "cell_type": "code",
      "execution_count": null,
      "metadata": {
        "hidden": true,
        "id": "vOuWkjz36ULS"
      },
      "outputs": [],
      "source": [
        "%reload_ext sql_magic"
      ]
    },
    {
      "cell_type": "code",
      "execution_count": null,
      "metadata": {
        "hidden": true,
        "id": "KE_bhLw16ULK"
      },
      "outputs": [],
      "source": [
        "from sqlalchemy import create_engine\n",
        "\n",
        "conn_string = 'mysql+pymysql://{user}:{password}@{host}/?charset=utf8'.format(\n",
        "    host='db.ipeirotis.org', \n",
        "    user='student',\n",
        "    password='dwdstudent2015',\n",
        "    encoding='utf-8')\n",
        "engine = create_engine(conn_string).connect()"
      ]
    },
    {
      "cell_type": "code",
      "execution_count": null,
      "metadata": {
        "hidden": true,
        "id": "fivqywfX6ULV"
      },
      "outputs": [],
      "source": [
        "%config SQL.conn_name = 'engine'"
      ]
    },
    {
      "cell_type": "markdown",
      "metadata": {
        "heading_collapsed": true,
        "id": "yPvFpNjaxW4C"
      },
      "source": [
        "## `SELECT *` "
      ]
    },
    {
      "cell_type": "markdown",
      "metadata": {
        "hidden": true,
        "id": "IuEncSZuxW4C"
      },
      "source": [
        "### IMDb"
      ]
    },
    {
      "cell_type": "code",
      "execution_count": null,
      "metadata": {
        "hidden": true,
        "id": "DGOuI3fFxW4D"
      },
      "outputs": [],
      "source": [
        "%%read_sql\n",
        "USE imdb"
      ]
    },
    {
      "cell_type": "markdown",
      "metadata": {
        "hidden": true,
        "id": "oHodKBJ9xW4D"
      },
      "source": [
        "#### Return all movies"
      ]
    },
    {
      "cell_type": "code",
      "execution_count": null,
      "metadata": {
        "hidden": true,
        "id": "2Zww7GjgxW4D"
      },
      "outputs": [],
      "source": [
        "%%read_sql\n",
        "SELECT *\n",
        "FROM movies"
      ]
    },
    {
      "cell_type": "markdown",
      "metadata": {
        "hidden": true,
        "id": "gbOg4kbqxW4E"
      },
      "source": [
        "#### Return all directors\n"
      ]
    },
    {
      "cell_type": "code",
      "execution_count": null,
      "metadata": {
        "hidden": true,
        "id": "QaKgWz2sxW4F"
      },
      "outputs": [],
      "source": [
        "%%read_sql\n",
        "SELECT *\n",
        "FROM directors"
      ]
    },
    {
      "cell_type": "markdown",
      "metadata": {
        "hidden": true,
        "id": "ju8SsxtwxW4F"
      },
      "source": [
        "#### Return all actors\n"
      ]
    },
    {
      "cell_type": "code",
      "execution_count": null,
      "metadata": {
        "hidden": true,
        "id": "0c2iftjExW4F"
      },
      "outputs": [],
      "source": [
        "%%read_sql\n",
        "SELECT *\n",
        "FROM actors"
      ]
    },
    {
      "cell_type": "markdown",
      "metadata": {
        "hidden": true,
        "id": "rFk9FivRxW4F"
      },
      "source": [
        "#### Return all roles\n"
      ]
    },
    {
      "cell_type": "code",
      "execution_count": null,
      "metadata": {
        "hidden": true,
        "id": "IvsNDS2sxW4G"
      },
      "outputs": [],
      "source": [
        "%%read_sql\n",
        "SELECT *\n",
        "FROM roles"
      ]
    },
    {
      "cell_type": "markdown",
      "metadata": {
        "hidden": true,
        "id": "jGxenkfNxW4G"
      },
      "source": [
        "#### Return all genres for the movies"
      ]
    },
    {
      "cell_type": "code",
      "execution_count": null,
      "metadata": {
        "hidden": true,
        "id": "nTgSFPSLxW4G"
      },
      "outputs": [],
      "source": [
        "%%read_sql\n",
        "SELECT *\n",
        "FROM movies_genres"
      ]
    },
    {
      "cell_type": "markdown",
      "metadata": {
        "heading_collapsed": true,
        "hidden": true,
        "id": "pzXIxBXrxW4G"
      },
      "source": [
        "### Facebook"
      ]
    },
    {
      "cell_type": "code",
      "execution_count": null,
      "metadata": {
        "hidden": true,
        "id": "Wix5cQ16xW4H"
      },
      "outputs": [],
      "source": [
        "%%read_sql\n",
        "USE facebook"
      ]
    },
    {
      "cell_type": "markdown",
      "metadata": {
        "hidden": true,
        "id": "lBI1dg24xW4H"
      },
      "source": [
        "#### Return all students"
      ]
    },
    {
      "cell_type": "code",
      "execution_count": null,
      "metadata": {
        "hidden": true,
        "id": "6FLhWtCQxW4H"
      },
      "outputs": [],
      "source": [
        "%%read_sql\n",
        "SELECT *\n",
        "FROM Profiles"
      ]
    },
    {
      "cell_type": "markdown",
      "metadata": {
        "hidden": true,
        "id": "FJZI_EEsxW4H"
      },
      "source": [
        "#### Return the hobbies of all students"
      ]
    },
    {
      "cell_type": "code",
      "execution_count": null,
      "metadata": {
        "hidden": true,
        "id": "BCtC4H-UxW4I"
      },
      "outputs": [],
      "source": [
        "%%read_sql\n",
        "SELECT *\n",
        "FROM Hobbies"
      ]
    },
    {
      "cell_type": "markdown",
      "metadata": {
        "hidden": true,
        "id": "ngFHnxf2xW4I"
      },
      "source": [
        "#### Return the relationship status for all students"
      ]
    },
    {
      "cell_type": "code",
      "execution_count": null,
      "metadata": {
        "hidden": true,
        "id": "2Ryic6aSxW4I"
      },
      "outputs": [],
      "source": [
        "%%read_sql\n",
        "SELECT *\n",
        "FROM Relationship"
      ]
    },
    {
      "cell_type": "markdown",
      "metadata": {
        "hidden": true,
        "id": "fk3nJOgYxW4I"
      },
      "source": [
        "#### Return what students are looking for"
      ]
    },
    {
      "cell_type": "code",
      "execution_count": null,
      "metadata": {
        "hidden": true,
        "id": "3F3rnkRnxW4I"
      },
      "outputs": [],
      "source": [
        "%%read_sql\n",
        "SELECT *\n",
        "FROM LookingFor"
      ]
    },
    {
      "cell_type": "code",
      "execution_count": null,
      "metadata": {
        "hidden": true,
        "id": "JSTMaQXJxW4J"
      },
      "outputs": [],
      "source": []
    },
    {
      "cell_type": "markdown",
      "metadata": {
        "heading_collapsed": true,
        "id": "fVwBIvGDxW4J"
      },
      "source": [
        "## `SELECT` _attr_"
      ]
    },
    {
      "cell_type": "markdown",
      "metadata": {
        "heading_collapsed": true,
        "hidden": true,
        "id": "kQJtzrHYxW4J"
      },
      "source": [
        "### IMDb"
      ]
    },
    {
      "cell_type": "code",
      "execution_count": null,
      "metadata": {
        "hidden": true,
        "id": "sv_uYUxcxW4J"
      },
      "outputs": [],
      "source": [
        "%%read_sql\n",
        "USE imdb"
      ]
    },
    {
      "cell_type": "markdown",
      "metadata": {
        "hidden": true,
        "id": "ZoKJnhhPxW4J"
      },
      "source": [
        "#### Return the first and last names of actors\n",
        "\n"
      ]
    },
    {
      "cell_type": "code",
      "execution_count": null,
      "metadata": {
        "hidden": true,
        "id": "Lc5YDvQtxW4K"
      },
      "outputs": [],
      "source": [
        "%%read_sql\n",
        "SELECT first_name, last_name\n",
        "FROM actors"
      ]
    },
    {
      "cell_type": "markdown",
      "metadata": {
        "hidden": true,
        "id": "2vrL_r77xW4K"
      },
      "source": [
        "#### Return year and ranking for each movie"
      ]
    },
    {
      "cell_type": "code",
      "execution_count": null,
      "metadata": {
        "hidden": true,
        "id": "jGiKGiu-xW4K"
      },
      "outputs": [],
      "source": [
        "%%read_sql\n",
        "SELECT year, rating\n",
        "FROM movies "
      ]
    },
    {
      "cell_type": "markdown",
      "metadata": {
        "heading_collapsed": true,
        "hidden": true,
        "id": "psXpcf0pxW4K"
      },
      "source": [
        "### Facebook"
      ]
    },
    {
      "cell_type": "code",
      "execution_count": null,
      "metadata": {
        "hidden": true,
        "id": "azk-jU76xW4L"
      },
      "outputs": [],
      "source": [
        "%%read_sql\n",
        "USE facebook"
      ]
    },
    {
      "cell_type": "markdown",
      "metadata": {
        "hidden": true,
        "id": "fP07lq9axW4L"
      },
      "source": [
        "#### Return Name, Sex, and Birthday of all students\n",
        "\n"
      ]
    },
    {
      "cell_type": "code",
      "execution_count": null,
      "metadata": {
        "hidden": true,
        "id": "nykOUqP2xW4L"
      },
      "outputs": [],
      "source": [
        "%%read_sql\n",
        "SELECT Name, Sex, Birthday\n",
        "FROM Profiles"
      ]
    },
    {
      "cell_type": "markdown",
      "metadata": {
        "hidden": true,
        "id": "hXsIb1JFxW4L"
      },
      "source": [
        "#### Return Sex, and Political Views of all students\n"
      ]
    },
    {
      "cell_type": "code",
      "execution_count": null,
      "metadata": {
        "hidden": true,
        "id": "L9-QRoVRxW4L"
      },
      "outputs": [],
      "source": [
        "%%read_sql\n",
        "SELECT Sex, PoliticalViews\n",
        "FROM Profiles"
      ]
    },
    {
      "cell_type": "markdown",
      "metadata": {
        "hidden": true,
        "id": "ogmxY8GqxW4M"
      },
      "source": [
        "#### Return the Relationship status column"
      ]
    },
    {
      "cell_type": "code",
      "execution_count": null,
      "metadata": {
        "hidden": true,
        "id": "nZgAtjWExW4M"
      },
      "outputs": [],
      "source": [
        "%%read_sql\n",
        "SELECT Status\n",
        "FROM Relationship"
      ]
    },
    {
      "cell_type": "markdown",
      "metadata": {
        "heading_collapsed": true,
        "id": "0LKcTbgqxW4M"
      },
      "source": [
        "## `SELECT` _attr_ `AS` _alias_"
      ]
    },
    {
      "cell_type": "markdown",
      "metadata": {
        "heading_collapsed": true,
        "hidden": true,
        "id": "-dEvRtrgxW4M"
      },
      "source": [
        "### IMDb"
      ]
    },
    {
      "cell_type": "code",
      "execution_count": null,
      "metadata": {
        "hidden": true,
        "id": "R9HUKaOxxW4M"
      },
      "outputs": [],
      "source": [
        "%%read_sql\n",
        "USE imdb"
      ]
    },
    {
      "cell_type": "markdown",
      "metadata": {
        "hidden": true,
        "id": "sl9XSy7pxW4N"
      },
      "source": [
        "#### Return id, first, and last names of actors. Rename id to “actor_id”\n"
      ]
    },
    {
      "cell_type": "code",
      "execution_count": null,
      "metadata": {
        "hidden": true,
        "id": "J_DJf9tDxW4N"
      },
      "outputs": [],
      "source": [
        "%%read_sql\n",
        "SELECT id AS actor_id, first_name, last_name\n",
        "FROM actors"
      ]
    },
    {
      "cell_type": "markdown",
      "metadata": {
        "hidden": true,
        "id": "u-_QtxARxW4N"
      },
      "source": [
        "#### Return name, year, and rank for each movie. Rename name to “movie_title”, year to “release_year”, and rank to “rating”\n"
      ]
    },
    {
      "cell_type": "code",
      "execution_count": null,
      "metadata": {
        "hidden": true,
        "id": "rzMXuNCYxW4O"
      },
      "outputs": [],
      "source": [
        "%%read_sql\n",
        "SELECT name AS movie_title, year AS release_year, rating\n",
        "FROM movies"
      ]
    },
    {
      "cell_type": "markdown",
      "metadata": {
        "heading_collapsed": true,
        "hidden": true,
        "id": "ELd2839yxW4O"
      },
      "source": [
        "### Facebook"
      ]
    },
    {
      "cell_type": "code",
      "execution_count": null,
      "metadata": {
        "hidden": true,
        "id": "dVKrn1eexW4O"
      },
      "outputs": [],
      "source": [
        "%%read_sql\n",
        "USE facebook"
      ]
    },
    {
      "cell_type": "markdown",
      "metadata": {
        "hidden": true,
        "id": "JEMcLdzjxW4O"
      },
      "source": [
        "#### Return Sex and Status of all students. Rename Sex to Gender and Status to UniversityStatus\n"
      ]
    },
    {
      "cell_type": "code",
      "execution_count": null,
      "metadata": {
        "hidden": true,
        "id": "AXYi60ujxW4P"
      },
      "outputs": [],
      "source": [
        "%%read_sql\n",
        "SELECT Sex AS Gender, Status AS UniversityStatus\n",
        "FROM Profiles"
      ]
    },
    {
      "cell_type": "markdown",
      "metadata": {
        "heading_collapsed": true,
        "id": "saRGTmsCxW4P"
      },
      "source": [
        "## `SELECT DISTINCT`"
      ]
    },
    {
      "cell_type": "markdown",
      "metadata": {
        "hidden": true,
        "id": "pyEYz880xW4P"
      },
      "source": [
        "### IMDb"
      ]
    },
    {
      "cell_type": "code",
      "execution_count": null,
      "metadata": {
        "hidden": true,
        "id": "whoxqP7kxW4P"
      },
      "outputs": [],
      "source": [
        "%%read_sql\n",
        "USE imdb"
      ]
    },
    {
      "cell_type": "markdown",
      "metadata": {
        "hidden": true,
        "id": "Azc9xnTaxW4P"
      },
      "source": [
        "#### Find all the movie genres\n"
      ]
    },
    {
      "cell_type": "code",
      "execution_count": null,
      "metadata": {
        "hidden": true,
        "id": "WLjFcGdwxW4P"
      },
      "outputs": [],
      "source": [
        "%%read_sql\n",
        "SELECT DISTINCT genre\n",
        "FROM movies_genres"
      ]
    },
    {
      "cell_type": "markdown",
      "metadata": {
        "hidden": true,
        "id": "f8Ga6i3DxW4Q"
      },
      "source": [
        "### Facebook"
      ]
    },
    {
      "cell_type": "code",
      "execution_count": null,
      "metadata": {
        "hidden": true,
        "id": "De8LSi6cxW4Q"
      },
      "outputs": [],
      "source": [
        "%%read_sql\n",
        "USE facebook"
      ]
    },
    {
      "cell_type": "markdown",
      "metadata": {
        "hidden": true,
        "id": "AkIDG3KsxW4Q"
      },
      "source": [
        "#### Return the distinct PoliticalViews from the Profiles table\n",
        "\n"
      ]
    },
    {
      "cell_type": "code",
      "execution_count": null,
      "metadata": {
        "hidden": true,
        "id": "b-ymmWVkxW4Q"
      },
      "outputs": [],
      "source": [
        "%%read_sql\n",
        "SELECT DISTINCT PoliticalViews\n",
        "FROM Profiles"
      ]
    },
    {
      "cell_type": "markdown",
      "metadata": {
        "hidden": true,
        "id": "kS0nAehsxW4Q"
      },
      "source": [
        "#### Return the distinct Sex values from the Profiles table\n"
      ]
    },
    {
      "cell_type": "code",
      "execution_count": null,
      "metadata": {
        "hidden": true,
        "id": "B9LuPxiKxW4R"
      },
      "outputs": [],
      "source": [
        "%%read_sql\n",
        "SELECT DISTINCT Sex\n",
        "FROM Profiles"
      ]
    },
    {
      "cell_type": "markdown",
      "metadata": {
        "hidden": true,
        "id": "46-bSulWxW4R"
      },
      "source": [
        "#### Find what students are “LookingFor”\n"
      ]
    },
    {
      "cell_type": "code",
      "execution_count": null,
      "metadata": {
        "hidden": true,
        "id": "cCYsU1QLxW4R"
      },
      "outputs": [],
      "source": [
        "%%read_sql\n",
        "SELECT DISTINCT LookingFor\n",
        "FROM LookingFor"
      ]
    },
    {
      "cell_type": "markdown",
      "metadata": {
        "hidden": true,
        "id": "TgSJZ15AxW4R"
      },
      "source": [
        "#### Find all possible “Relationship” statuses\n"
      ]
    },
    {
      "cell_type": "code",
      "execution_count": null,
      "metadata": {
        "hidden": true,
        "id": "dxqC8E6WxW4S"
      },
      "outputs": [],
      "source": [
        "%%read_sql\n",
        "SELECT DISTINCT Status\n",
        "FROM Relationship"
      ]
    },
    {
      "cell_type": "markdown",
      "metadata": {
        "hidden": true,
        "id": "Qjv2YeSHxW4S"
      },
      "source": [
        "#### Find all possible Concentrations"
      ]
    },
    {
      "cell_type": "code",
      "execution_count": null,
      "metadata": {
        "hidden": true,
        "id": "FIGzIj1-xW4S"
      },
      "outputs": [],
      "source": [
        "%%read_sql\n",
        "SELECT DISTINCT Concentration\n",
        "FROM Concentration"
      ]
    },
    {
      "cell_type": "markdown",
      "metadata": {
        "heading_collapsed": true,
        "id": "hjO4AvmvxW4S"
      },
      "source": [
        "## `ORDER BY` and `LIMIT`"
      ]
    },
    {
      "cell_type": "markdown",
      "metadata": {
        "heading_collapsed": true,
        "hidden": true,
        "id": "FbDgVSSKxW4S"
      },
      "source": [
        "### IMDb"
      ]
    },
    {
      "cell_type": "code",
      "execution_count": null,
      "metadata": {
        "hidden": true,
        "id": "_skmdZT2xW4T"
      },
      "outputs": [],
      "source": [
        "%%read_sql\n",
        "USE imdb"
      ]
    },
    {
      "cell_type": "markdown",
      "metadata": {
        "hidden": true,
        "id": "JYZy92-AxW4T"
      },
      "source": [
        "#### Find the top-10 ranked movies\n",
        "* Rank by “rank” first (descending order)\n",
        "* Break ties using “year”\n",
        "* Break remaining ties using “name”\n"
      ]
    },
    {
      "cell_type": "code",
      "execution_count": null,
      "metadata": {
        "hidden": true,
        "id": "3tjOeTblxW4T"
      },
      "outputs": [],
      "source": [
        "%%read_sql\n",
        "SELECT *\n",
        "FROM movies\n",
        "ORDER BY rating DESC, year, name\n",
        "LIMIT 10"
      ]
    },
    {
      "cell_type": "markdown",
      "metadata": {
        "hidden": true,
        "id": "6aRMgGMMxW4U"
      },
      "source": [
        "#### List all the distinct years of the movies, in descending order\n",
        "\n"
      ]
    },
    {
      "cell_type": "code",
      "execution_count": null,
      "metadata": {
        "hidden": true,
        "id": "hbtwEevuxW4U"
      },
      "outputs": [],
      "source": [
        "%%read_sql\n",
        "SELECT DISTINCT year\n",
        "FROM movies\n",
        "ORDER BY year DESC"
      ]
    },
    {
      "cell_type": "markdown",
      "metadata": {
        "heading_collapsed": true,
        "hidden": true,
        "id": "SxFeqckTxW4U"
      },
      "source": [
        "### Facebook"
      ]
    },
    {
      "cell_type": "code",
      "execution_count": null,
      "metadata": {
        "hidden": true,
        "id": "26MWAK52xW4U"
      },
      "outputs": [],
      "source": [
        "%%read_sql\n",
        "USE facebook"
      ]
    },
    {
      "cell_type": "markdown",
      "metadata": {
        "hidden": true,
        "id": "IZuvNF0_xW4U"
      },
      "source": [
        "#### List the first 50 students that joined Facebook at NYU (use the “MemberSince” attribute)"
      ]
    },
    {
      "cell_type": "code",
      "execution_count": null,
      "metadata": {
        "hidden": true,
        "id": "lfYfRjJFxW4V"
      },
      "outputs": [],
      "source": [
        "%%read_sql\n",
        "SELECT *\n",
        "FROM Profiles\n",
        "ORDER BY MemberSince \n",
        "LIMIT 50"
      ]
    },
    {
      "cell_type": "markdown",
      "metadata": {
        "hidden": true,
        "id": "vDiaOtTExW4V"
      },
      "source": [
        "#### List the 10 students that have not updated their profiles for the longest time (use the “LastUpdate” attribute) – what is the problem?"
      ]
    },
    {
      "cell_type": "code",
      "execution_count": null,
      "metadata": {
        "hidden": true,
        "id": "c7pv49jbxW4V"
      },
      "outputs": [],
      "source": [
        "%%read_sql\n",
        "SELECT *\n",
        "FROM Profiles\n",
        "-- WHERE LastUpdate IS NOT NULL -- We need this filtering condition for the query to work as expected\n",
        "ORDER BY LastUpdate\n",
        "LIMIT 10"
      ]
    }
  ],
  "metadata": {
    "colab": {
      "name": "A-Navigation_Queries.ipynb",
      "provenance": [],
      "include_colab_link": true
    },
    "kernelspec": {
      "display_name": "Python 3",
      "language": "python",
      "name": "python3"
    },
    "language_info": {
      "codemirror_mode": {
        "name": "ipython",
        "version": 3
      },
      "file_extension": ".py",
      "mimetype": "text/x-python",
      "name": "python",
      "nbconvert_exporter": "python",
      "pygments_lexer": "ipython3",
      "version": "3.8.2"
    }
  },
  "nbformat": 4,
  "nbformat_minor": 0
}